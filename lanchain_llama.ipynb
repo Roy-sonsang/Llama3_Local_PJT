{
 "cells": [
  {
   "cell_type": "code",
   "execution_count": 3,
   "metadata": {},
   "outputs": [],
   "source": [
    "from langchain_community.llms import Ollama\n",
    "\n",
    "# model\n",
    "llm = Ollama(model=\"llama3-ko:latest\")\n",
    "\n",
    "# chain 실행\n",
    "response = llm.invoke(\"지구의 자전 주기는?\")"
   ]
  },
  {
   "cell_type": "code",
   "execution_count": 4,
   "metadata": {},
   "outputs": [
    {
     "data": {
      "text/plain": [
       "'지구는 태양을 중심으로 공전하고 있습니다. 지구가 태양을 한 바퀴 도는데 걸리는 시간은 365일입니다. 지구의 자전 주기는 약 24시간입니다'"
      ]
     },
     "execution_count": 4,
     "metadata": {},
     "output_type": "execute_result"
    }
   ],
   "source": [
    "response"
   ]
  }
 ],
 "metadata": {
  "kernelspec": {
   "display_name": "RAG",
   "language": "python",
   "name": "python3"
  },
  "language_info": {
   "codemirror_mode": {
    "name": "ipython",
    "version": 3
   },
   "file_extension": ".py",
   "mimetype": "text/x-python",
   "name": "python",
   "nbconvert_exporter": "python",
   "pygments_lexer": "ipython3",
   "version": "3.11.9"
  },
  "orig_nbformat": 4,
  "vscode": {
   "interpreter": {
    "hash": "4ae6f1b18ab7278cad0e2db3f180b365fe12e85d58f796a944c5f46a13e556fb"
   }
  }
 },
 "nbformat": 4,
 "nbformat_minor": 2
}
